{
  "nbformat": 4,
  "nbformat_minor": 0,
  "metadata": {
    "colab": {
      "name": "build Artificial neural network.ipynb",
      "provenance": [],
      "collapsed_sections": [],
      "include_colab_link": true
    },
    "kernelspec": {
      "name": "python3",
      "display_name": "Python 3"
    }
  },
  "cells": [
    {
      "cell_type": "markdown",
      "metadata": {
        "id": "view-in-github",
        "colab_type": "text"
      },
      "source": [
        "<a href=\"https://colab.research.google.com/github/Bounyane/algorithm_AI/blob/master/build_Artificial_neural_network.ipynb\" target=\"_parent\"><img src=\"https://colab.research.google.com/assets/colab-badge.svg\" alt=\"Open In Colab\"/></a>"
      ]
    },
    {
      "cell_type": "markdown",
      "metadata": {
        "id": "Gj0-CPTGFmZa"
      },
      "source": [
        "#Artificial neural network from scratch \n"
      ]
    },
    {
      "cell_type": "markdown",
      "metadata": {
        "id": "AFxzUVnm8N5Z"
      },
      "source": [
        "build Artificial neural network \n",
        "\n",
        "1.   build function for determinate number of hidden layer.\n",
        "2.   build function for intialize parametres(weigths\"W\",coefficients\"B\").\n",
        "3.   build function for claculate linear forward.(Wx+b)\n",
        "4.   build activation functions (*Sigmoid,relu, leaky relu ,tanh*)\n",
        "5.   build softmax function.\n",
        "6.   build function for calculate linear activation forward.\n",
        "7.   build function for compute cost by use (cross_entropy function).\n",
        "8.   build function for calculat derivative of activation functions.\n",
        "9.   build function for back backward propagation.\n",
        "10.  build function for Update parametrs.\n",
        "11.  build function for training model.\n",
        "12.  build function for testing model.\n",
        "13.  build function for showing accuracy and loss by use confustion matrix method.\n"
      ]
    },
    {
      "cell_type": "code",
      "metadata": {
        "id": "jmdSlapDV5w-"
      },
      "source": [
        "#library\n",
        "import numpy as np"
      ],
      "execution_count": 1,
      "outputs": []
    },
    {
      "cell_type": "code",
      "metadata": {
        "id": "b23dFPUcc_tp"
      },
      "source": [
        "#determinate number of hidden layer#\n",
        "def ini_parametres(dim,labs):\n",
        "  parametres={}\n",
        "  for i in range(len(dim)-1):\n",
        "    parametres[\"W\"+str(i+1)]=np.random.rand(dim[i+1],dim[i])*labs\n",
        "    parametres[\"B\"+str(i+1)]=np.random.rand(dim[i+1],1)*labs\n",
        "  return parametres"
      ],
      "execution_count": 2,
      "outputs": []
    },
    {
      "cell_type": "code",
      "metadata": {
        "id": "igFtokJrbqk_"
      },
      "source": [
        "#calculat linear forward\n",
        "def linear_forward(A,W,B):\n",
        "    Z=np.dot(W,A)+B\n",
        "    return Z"
      ],
      "execution_count": 3,
      "outputs": []
    },
    {
      "cell_type": "code",
      "metadata": {
        "id": "S17bE1Z1fzC7"
      },
      "source": [
        "#Activation functions\n",
        "\n",
        "def sigmoid(Z):\n",
        "  A=1/(1+np.exp(-Z))\n",
        "  return A\n",
        "\n",
        "def relu(Z):\n",
        "  A=np.maximum(0,Z)\n",
        "  return A\n",
        "\n",
        "def leaky_relu(Z,alpha=0.01):\n",
        "   A=np.where(Z>0,Z,Z*alpha)\n",
        "   return A\n",
        "\n",
        "def tanh(Z):\n",
        "    A=(np.exp(Z)-np.exp(-Z))/(np.exp(Z)+np.exp(-Z))\n",
        "    return A "
      ],
      "execution_count": 4,
      "outputs": []
    },
    {
      "cell_type": "code",
      "metadata": {
        "id": "mK8ciEFwuBbD"
      },
      "source": [
        "#softmax function \n",
        "def softmax(Z):\n",
        "  t=np.exp(Z)\n",
        "  s=sum(t)\n",
        "  soft=t/s\n",
        "  return soft "
      ],
      "execution_count": 5,
      "outputs": []
    },
    {
      "cell_type": "code",
      "metadata": {
        "id": "KyVRubmwuM-b"
      },
      "source": [
        "def linear_activation_forward(input,parametres,activation):\n",
        "  A=input\n",
        "  N=len(parametres)/2\n",
        "  cache_z={}\n",
        "  cache_a={}\n",
        "  for i in range(1,int(N)+1):\n",
        "    W= parametres[\"W\"+str(i)] \n",
        "    B= parametres[\"B\"+str(i)]\n",
        "    Z=linear_forward(A,W,B)\n",
        "    cache_z[\"Z\"+str(i)]=Z\n",
        "    if activation[i-1]==\"relu\" :\n",
        "      A=relu(Z)\n",
        "    elif activation[i-1]==\"tanh\" :\n",
        "      A=tanh(Z)\n",
        "    elif activation[i-1]==\"leaky_relu\" :\n",
        "      A=leaky_relu(Z)  \n",
        "    elif activation[i-1]==\"sigmoid\":\n",
        "      A=sigmoid(Z)\n",
        "    else :\n",
        "      A=softmax(Z)\n",
        "    cache_a[\"A\"+str(i)]=A\n",
        "  return A,cache_z,cache_a"
      ],
      "execution_count": 6,
      "outputs": []
    },
    {
      "cell_type": "code",
      "metadata": {
        "id": "FOtfewbFBU_a"
      },
      "source": [
        "#compute loss function \n",
        "def Loss_function(output,y):\n",
        "  m=output.shape[1]\n",
        "  l=y*np.log(output)\n",
        "  loss=(sum(-sum(l).reshape(m,1)))\n",
        "  return loss/m"
      ],
      "execution_count": 7,
      "outputs": []
    },
    {
      "cell_type": "code",
      "metadata": {
        "id": "zlG8y_gHXzdE"
      },
      "source": [
        "#derivative of activation function\n",
        "def D_sigmoid(Z):\n",
        "  return sigmoid(Z)*(1-sigmoid(Z))\n",
        "def D_relu(Z):\n",
        "  return np.where(Z>=0,1,0)\n",
        "def D_leaky_relu(Z,alpha):\n",
        "  return np.where(Z>=0,1,alpha)\n",
        "def D_tanh(Z):\n",
        "  return 1-(tanh(Z)**2)"
      ],
      "execution_count": 8,
      "outputs": []
    },
    {
      "cell_type": "code",
      "metadata": {
        "id": "BMTBvMrwi1bH"
      },
      "source": [
        "#backward propagation \n",
        "def D_Z(y,cache_a,cache_z,parametres,activation):\n",
        "  N=len(cache_z)\n",
        "  dZ_f=cache_a[\"A\"+str(N)]-y\n",
        "  dz={\"dZ\"+str(N):dZ_f}\n",
        "  for i in range(N,0,-1):\n",
        "    if activation[i-1]==\"sigmoid\":\n",
        "       dz[\"dZ\"+str(i)]=np.multiply(np.dot(parametres[\"W\"+str(i+1)].T,dz[\"dZ\"+str(i+1)]),D_sigmoid(cache_z[\"Z\"+str(i)]))\n",
        "    elif activation[i-1]==\"tanh\":\n",
        "       dz[\"dZ\"+str(i)]=np.multiply(np.dot(parametres[\"W\"+str(i+1)].T,dz[\"dZ\"+str(i+1)]),D_tanh(cache_z[\"Z\"+str(i)]))\n",
        "    elif activation[i-1]==\"relu\":\n",
        "       dz[\"dZ\"+str(i)]=np.multiply(np.dot(parametres[\"W\"+str(i+1)].T,dz[\"dZ\"+str(i+1)]),D_relu(cache_z[\"Z\"+str(i)]))\n",
        "    elif activation[i-1]==\"leaky_relu\": \n",
        "       dz[\"dZ\"+str(i)]=np.multiply(np.dot(parametres[\"W\"+str(i+1)].T,dz[\"dZ\"+str(i+1)]),D_leaky_relu(cache_z[\"Z\"+str(i)]))\n",
        "  return dz"
      ],
      "execution_count": 9,
      "outputs": []
    },
    {
      "cell_type": "code",
      "metadata": {
        "id": "FQbS5i_x1vHK"
      },
      "source": [
        "def D_WB(input,cache_a,dz):\n",
        "  dw={}\n",
        "  db={}\n",
        "  m=input.shape[1]\n",
        "  for i in range(len(cache_a),0,-1):\n",
        "    if(i!=1):\n",
        "     dw[\"W\"+str(i)]=np.dot(dz[\"dZ\"+str(i)],cache_a[\"A\"+str(i-1)].T)/m\n",
        "     db[\"B\"+str(i)]=np.sum(dz[\"dZ\"+str(i)],axis=1,keepdims=True)/m\n",
        "    else:\n",
        "     dw[\"W\"+str(i)]=np.dot(dz[\"dZ\"+str(i)],input.T)/m\n",
        "     db[\"B\"+str(i)]=np.sum(dz[\"dZ\"+str(i)],axis=1,keepdims=True)/m\n",
        "  return dw,db"
      ],
      "execution_count": 10,
      "outputs": []
    },
    {
      "cell_type": "code",
      "metadata": {
        "id": "dUMnmJcM62Y_"
      },
      "source": [
        "#Update parametres\n",
        "def Update_parametres(dw,db,parametres,learning_rate):\n",
        "    new_parametres={}\n",
        "    for i in range(1,len(dw)+1):\n",
        "        new_parametres[\"W\"+str(i)]=parametres[\"W\"+str(i)]-learning_rate*dw[\"W\"+str(i)]\n",
        "        new_parametres[\"B\"+str(i)]=parametres[\"B\"+str(i)]-learning_rate*db[\"B\"+str(i)]\n",
        "    return new_parametres   "
      ],
      "execution_count": 11,
      "outputs": []
    },
    {
      "cell_type": "code",
      "metadata": {
        "id": "DA4Yp-12ATjB"
      },
      "source": [
        "#training  Model\n",
        "def fit_model(input,output,hidden_dim,activations_f,labs=0.1,learning_rate=0.08,iteration=1000,show_loss=False):\n",
        "     parametres=ini_parametres(hidden_dim,labs)\n",
        "     loss=[]\n",
        "     for i in range(1,iteration):\n",
        "       a,cache_z,cache_a=linear_activation_forward(input,parametres,activations_f)\n",
        "       if show_loss==True and i%10==0:\n",
        "          print(\"cost :\",Loss_function(a,output))\n",
        "       loss.append(Loss_function(a,output))\n",
        "       dz=D_Z(output,cache_a,cache_z,parametres,activations_f)\n",
        "       dw,db=D_WB(input,cache_a,dz)\n",
        "       parametres=Update_parametres(dw,db,parametres,learning_rate)  \n",
        "     return np.squeeze(loss),parametres  "
      ],
      "execution_count": 12,
      "outputs": []
    },
    {
      "cell_type": "code",
      "metadata": {
        "id": "k8dSXcRtU9fe",
        "colab": {
          "base_uri": "https://localhost:8080/"
        },
        "outputId": "b6e52ff4-cbef-4626-917b-cc0d1e08d9c9"
      },
      "source": [
        "#import dataset \n",
        "from keras.datasets import mnist\n",
        "\n",
        "(x_train, y_train), (x_test, y_test) = mnist.load_data()"
      ],
      "execution_count": 13,
      "outputs": [
        {
          "output_type": "stream",
          "text": [
            "Downloading data from https://storage.googleapis.com/tensorflow/tf-keras-datasets/mnist.npz\n",
            "11493376/11490434 [==============================] - 0s 0us/step\n"
          ],
          "name": "stdout"
        }
      ]
    },
    {
      "cell_type": "code",
      "metadata": {
        "id": "HE_-Y7o5j1fx",
        "colab": {
          "base_uri": "https://localhost:8080/"
        },
        "outputId": "2483d5a9-9d24-4a5f-e72c-1ae9dc07630b"
      },
      "source": [
        "from sklearn.preprocessing import LabelEncoder\n",
        "from sklearn.preprocessing import OneHotEncoder\n",
        "\n",
        "# binary encode\n",
        "onehot_encoder = OneHotEncoder(sparse=False)\n",
        "integer_encoded = y_train.reshape(len(y_train), 1)\n",
        "onehot_encoded = onehot_encoder.fit_transform(integer_encoded)\n",
        "onehot_encoded=onehot_encoded.T\n",
        "print(onehot_encoded[0:10,1:5])\n",
        "print(y_train[1:5])"
      ],
      "execution_count": 14,
      "outputs": [
        {
          "output_type": "stream",
          "text": [
            "[[1. 0. 0. 0.]\n",
            " [0. 0. 1. 0.]\n",
            " [0. 0. 0. 0.]\n",
            " [0. 0. 0. 0.]\n",
            " [0. 1. 0. 0.]\n",
            " [0. 0. 0. 0.]\n",
            " [0. 0. 0. 0.]\n",
            " [0. 0. 0. 0.]\n",
            " [0. 0. 0. 0.]\n",
            " [0. 0. 0. 1.]]\n",
            "[0 4 1 9]\n"
          ],
          "name": "stdout"
        }
      ]
    },
    {
      "cell_type": "code",
      "metadata": {
        "id": "pMg0khGoBIE-",
        "colab": {
          "base_uri": "https://localhost:8080/"
        },
        "outputId": "44aecf3b-c1f5-4698-c4de-dbad86d2a555"
      },
      "source": [
        "\n",
        "x_train=(x_train.reshape(60000,784).T/255)\n",
        "y_train=onehot_encoded\n",
        "print(x_train.shape)\n",
        "print(y_train.shape)"
      ],
      "execution_count": 15,
      "outputs": [
        {
          "output_type": "stream",
          "text": [
            "(784, 60000)\n",
            "(10, 60000)\n"
          ],
          "name": "stdout"
        }
      ]
    },
    {
      "cell_type": "code",
      "metadata": {
        "id": "gOnEay6SF9Wv",
        "colab": {
          "base_uri": "https://localhost:8080/",
          "height": 1000
        },
        "outputId": "b8f9946d-36f4-4a64-b78a-7aeef7852631"
      },
      "source": [
        " import matplotlib.pyplot as plt\n",
        "\n",
        "dim=[784,10,7,10]\n",
        "activations=[\"tanh\",\"tanh\",\"softmax\"]\n",
        "loss,_=fit_model(x_train,y_train,dim,activations,iteration=1000,labs=0.01,show_loss=True)\n",
        "plt.plot(loss)\n",
        "plt.show()\n"
      ],
      "execution_count": 16,
      "outputs": [
        {
          "output_type": "stream",
          "text": [
            "cost : [2.30239793]\n",
            "cost : [2.30220398]\n",
            "cost : [2.30203758]\n",
            "cost : [2.30189452]\n",
            "cost : [2.30177121]\n",
            "cost : [2.30166452]\n",
            "cost : [2.30157177]\n",
            "cost : [2.30149062]\n",
            "cost : [2.30141904]\n",
            "cost : [2.30135526]\n",
            "cost : [2.30129771]\n",
            "cost : [2.30124499]\n",
            "cost : [2.30119585]\n",
            "cost : [2.30114912]\n",
            "cost : [2.30110374]\n",
            "cost : [2.30105866]\n",
            "cost : [2.30101287]\n",
            "cost : [2.30096534]\n",
            "cost : [2.30091503]\n",
            "cost : [2.30086079]\n",
            "cost : [2.30080138]\n",
            "cost : [2.30073542]\n",
            "cost : [2.30066131]\n",
            "cost : [2.3005772]\n",
            "cost : [2.3004809]\n",
            "cost : [2.30036976]\n",
            "cost : [2.30024058]\n",
            "cost : [2.3000894]\n",
            "cost : [2.29991132]\n",
            "cost : [2.29970016]\n",
            "cost : [2.29944808]\n",
            "cost : [2.29914501]\n",
            "cost : [2.29877788]\n",
            "cost : [2.29832951]\n",
            "cost : [2.29777702]\n",
            "cost : [2.29708951]\n",
            "cost : [2.29622451]\n",
            "cost : [2.29512254]\n",
            "cost : [2.29369842]\n",
            "cost : [2.29182703]\n",
            "cost : [2.28931931]\n",
            "cost : [2.28588086]\n",
            "cost : [2.28104039]\n",
            "cost : [2.27403082]\n",
            "cost : [2.26362089]\n",
            "cost : [2.24799927]\n",
            "cost : [2.22512398]\n",
            "cost : [2.19417511]\n",
            "cost : [2.15744634]\n",
            "cost : [2.11989449]\n",
            "cost : [2.08589505]\n",
            "cost : [2.05682047]\n",
            "cost : [2.03155996]\n",
            "cost : [2.00833191]\n",
            "cost : [1.98588033]\n",
            "cost : [1.96378905]\n",
            "cost : [1.94226856]\n",
            "cost : [1.92176339]\n",
            "cost : [1.90266104]\n",
            "cost : [1.88518851]\n",
            "cost : [1.86942214]\n",
            "cost : [1.85532748]\n",
            "cost : [1.84279524]\n",
            "cost : [1.83167042]\n",
            "cost : [1.82177683]\n",
            "cost : [1.81293672]\n",
            "cost : [1.80498403]\n",
            "cost : [1.79777114]\n",
            "cost : [1.79117078]\n",
            "cost : [1.78507484]\n",
            "cost : [1.77939183]\n",
            "cost : [1.77404383]\n",
            "cost : [1.76896348]\n",
            "cost : [1.76409188]\n",
            "cost : [1.75937753]\n",
            "cost : [1.75477638]\n",
            "cost : [1.75025214]\n",
            "cost : [1.74577606]\n",
            "cost : [1.74132574]\n",
            "cost : [1.7368831]\n",
            "cost : [1.73243214]\n",
            "cost : [1.72795689]\n",
            "cost : [1.72343946]\n",
            "cost : [1.71885816]\n",
            "cost : [1.71418564]\n",
            "cost : [1.70938701]\n",
            "cost : [1.70441805]\n",
            "cost : [1.69922388]\n",
            "cost : [1.69373856]\n",
            "cost : [1.68788667]\n",
            "cost : [1.68158795]\n",
            "cost : [1.67476582]\n",
            "cost : [1.66735973]\n",
            "cost : [1.65933902]\n",
            "cost : [1.65071423]\n",
            "cost : [1.64154105]\n",
            "cost : [1.63191408]\n",
            "cost : [1.62195209]\n",
            "cost : [1.61177951]\n"
          ],
          "name": "stdout"
        },
        {
          "output_type": "display_data",
          "data": {
            "image/png": "[encoded data removed]",
            "text/plain": [
              "<Figure size 432x288 with 1 Axes>"
            ]
          },
          "metadata": {
            "tags": [],
            "needs_background": "light"
          }
        }
      ]
    },
    {
      "cell_type": "code",
      "metadata": {
        "id": "Th-x79JELYZ9",
        "colab": {
          "base_uri": "https://localhost:8080/",
          "height": 299
        },
        "outputId": "2db8aeae-133c-49cb-c2c6-2e70a0ee610b"
      },
      "source": [
        "\n",
        "simple=x_test[12] #select index of image from test dataset\n",
        "\n",
        "plt.imshow(simple)\n",
        "plt.show()\n",
        "print(simple.shape)\n",
        "simple_=simple.reshape(784,1)/255\n",
        "Ypre=linear_activation_forward(simple_,_,[\"tanh\",\"tanh\",\"softmax\"])[0]\n",
        "Ypre=Ypre.reshape(10)\n",
        "Ypre=list(Ypre)\n",
        "print(\"the number of image is : \",Ypre.index(np.max(Ypre)))"
      ],
      "execution_count": 42,
      "outputs": [
        {
          "output_type": "display_data",
          "data": {
            "image/png": "[encoded data removed]",
            "text/plain": [
              "<Figure size 432x288 with 1 Axes>"
            ]
          },
          "metadata": {
            "tags": [],
            "needs_background": "light"
          }
        },
        {
          "output_type": "stream",
          "text": [
            "(28, 28)\n",
            "the number of image is :  9\n"
          ],
          "name": "stdout"
        }
      ]
    }
  ]
}
